import sidetable as stb
import pandas as pd
import os 

columns = ['Año', 'Clave_Ent', 'Entidad', 'Cve. Municipio', 'Municipio',
        'Tipo de delito',  'Enero', 'Febrero', 'Marzo', 'Abril', 'Mayo', 'Junio',
       'Julio', 'Agosto', 'Septiembre', 'Octubre', 'Noviembre', 'Diciembre']

#os.chdir(r'C:\Users\win\AnacondaProjects\0 0 Projects\Project_12')
#os.chdir(r'C:\Users\IVANOV\AnacondaProjects\0 0 Projects\Project_libro_VG\bases')

delitos = pd.read_csv("Municipal-Delitos-2015-2022_ene2022.csv",
                       #"IDM_NM_may21.csv",
                                                                encoding= "Latin-1", usecols= columns)
#---------------------------------------------------------------------------------------------------------

#FILTRO DELITOS VG
delitos[#básicos
         (delitos["Tipo de delito"]== "Feminicidio")|
         (delitos["Tipo de delito"]== "Tráfico de menores")|
         (delitos["Tipo de delito"]== "Abuso sexual")|
         (delitos["Tipo de delito"]== "Acoso sexual")|
         (delitos["Tipo de delito"]== "Hostigamiento sexual")|
         (delitos["Tipo de delito"]== "Violación simple")|
         (delitos["Tipo de delito"]== "Violación equiparada")|
         (delitos["Tipo de delito"]== "Violencia familiar")|
         (delitos["Tipo de delito"]== "Otros delitos que atentan contra la libertad y la seguridad sexual")|
         (delitos["Tipo de delito"]== "Violencia de género en todas sus modalidades distinta a la violencia familiar")|
         (delitos["Tipo de delito"]== "Incumplimiento de obligaciones de asistencia familiar")|
         (delitos["Tipo de delito"]== "Otros delitos contra la familia")|
         (delitos["Tipo de delito"]== "Incesto")|
         (delitos["Tipo de delito"]== "Corrupción de menores")|
         (delitos["Tipo de delito"]== "Aborto")|

        #complementarios
         (delitos["Tipo de delito"]== "Otros delitos que atentan contra la vida y la integridad corporal")|    
         (delitos["Tipo de delito"]== "Otros delitos que atentan contra la libertad personal")|
         (delitos["Tipo de delito"]== "Trata de personas")|
         (delitos["Tipo de delito"]== "Tráfico de menores")
         #(delitos["Tipo de delito"]== "Amenazas")|
        #dudosos
         #(delitos["Tipo de delito"]== "Lesiones")|

       ].to_csv("delitosvg2015_2022.csv", header=True)
#---------------------------------------------------------------------------------------------------------

#TRATAMIENTO
d_vg = pd.read_csv('delitosvg2015_2022.csv')

d_vg["Tipo de delito"].replace("Incumplimiento de obligaciones de asistencia familiar",
                              "No asistencia familiar", inplace=True)

d_vg["Tipo de delito"].replace("Otros delitos que atentan contra la vida y la integridad corporal",
                              "Contra integridad corporal", inplace=True)

d_vg["Tipo de delito"].replace("Otros delitos que atentan contra la libertad personal",
                              "Contra libertad personal", inplace=True)

d_vg["Tipo de delito"].replace("Otros delitos que atentan contra la libertad y la seguridad sexual",
                              "Contra seguridad sexual", inplace=True)

d_vg["Tipo de delito"].replace("Violencia de género en todas sus modalidades distinta a la violencia familiar",
                              "Distinta a violencia familiar", inplace=True)

d_vg["Tipo de delito"].replace("Violación simple",
                              "Violación", inplace=True)

d_vg["Tipo de delito"].replace("Violación equiparada",
                              "Violación", inplace=True)

d_vg["Tipo de delito"].replace('Otros delitos contra la familia',
                              "Contra la familia", inplace=True)
#---------------------------------------------------------------------------------------------------------

# CREA BASE A
d_vg1 = d_vg[(d_vg["Tipo de delito"] == "Violencia familiar" )|
     (d_vg["Tipo de delito"] == "No asistencia familiar" )|
     (d_vg["Tipo de delito"] == "Abuso sexual" )|
    (d_vg["Tipo de delito"] == "Contra libertad personal" )|
    (d_vg["Tipo de delito"] == "Violación" )|
    (d_vg["Tipo de delito"] == "Contra la familia" )|
    (d_vg["Tipo de delito"] == "Contra integridad corporal" )|
    (d_vg["Tipo de delito"] == "Contra seguridad sexual" )]

d_vg1.to_csv("delitosvg2015_2022_a.csv")


#CREA BASE B
d_vg2 = d_vg[(d_vg["Tipo de delito"] == "Acoso sexual" )|
     (d_vg["Tipo de delito"] == "Distinta a violencia familiar" )|
     (d_vg["Tipo de delito"] == "Corrupción de menores" )|
    (d_vg["Tipo de delito"] == "Hostigamiento sexual" )|
    (d_vg["Tipo de delito"] == "Feminicidio" )|
    (d_vg["Tipo de delito"] == "Trata de personas" )|
    (d_vg["Tipo de delito"] == "Tráfico de menores" )|
    (d_vg["Tipo de delito"] == "Incesto" )]

d_vg2.to_csv("delitosvg2015_2022_b.csv")
